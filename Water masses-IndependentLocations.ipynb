{
 "cells": [
  {
   "cell_type": "markdown",
   "metadata": {},
   "source": [
    "# Computing water masses"
   ]
  },
  {
   "cell_type": "markdown",
   "metadata": {},
   "source": [
    "## Loading the necessary libraries"
   ]
  },
  {
   "cell_type": "code",
   "execution_count": 1,
   "metadata": {},
   "outputs": [],
   "source": [
    "import numpy as np\n",
    "import matplotlib.pyplot as plt\n",
    "\n",
    "# 1.3 Regressors\n",
    "from sklearn.neighbors import KNeighborsRegressor\n",
    "from sklearn.linear_model import Lasso\n",
    "from sklearn.linear_model import ElasticNet\n",
    "from sklearn.linear_model import LinearRegression\n",
    "from sklearn.linear_model import RidgeCV\n",
    "\n",
    "from sklearn.ensemble import ExtraTreesRegressor\n",
    "from sklearn.ensemble import GradientBoostingRegressor\n",
    "from sklearn.ensemble import RandomForestRegressor\n",
    "from sklearn.ensemble import AdaBoostRegressor\n",
    "\n",
    "from sklearn.tree import DecisionTreeRegressor\n",
    "\n",
    "from sklearn.multioutput import MultiOutputRegressor\n",
    "\n",
    "\n",
    "\n",
    "from sklearn.metrics import mean_squared_error\n",
    "from sklearn.model_selection import train_test_split\n",
    "from sklearn.preprocessing import StandardScaler\n",
    "import pandas as pd"
   ]
  },
  {
   "cell_type": "markdown",
   "metadata": {},
   "source": [
    "## Loading the data\n",
    "\n",
    "We load the file."
   ]
  },
  {
   "cell_type": "code",
   "execution_count": 2,
   "metadata": {},
   "outputs": [],
   "source": [
    "df = pd.read_csv('AtlanticOceanDatabase_clean.csv',delimiter=';',decimal=',')"
   ]
  },
  {
   "cell_type": "code",
   "execution_count": 3,
   "metadata": {},
   "outputs": [
    {
     "data": {
      "text/html": [
       "<div>\n",
       "<style scoped>\n",
       "    .dataframe tbody tr th:only-of-type {\n",
       "        vertical-align: middle;\n",
       "    }\n",
       "\n",
       "    .dataframe tbody tr th {\n",
       "        vertical-align: top;\n",
       "    }\n",
       "\n",
       "    .dataframe thead th {\n",
       "        text-align: right;\n",
       "    }\n",
       "</style>\n",
       "<table border=\"1\" class=\"dataframe\">\n",
       "  <thead>\n",
       "    <tr style=\"text-align: right;\">\n",
       "      <th></th>\n",
       "      <th>LATITUDE</th>\n",
       "      <th>LONGITUDE</th>\n",
       "      <th>CTDPRS</th>\n",
       "      <th>CTDTPOT</th>\n",
       "      <th>CTDSAL</th>\n",
       "      <th>EDW</th>\n",
       "      <th>ENACW12</th>\n",
       "      <th>WNACW7</th>\n",
       "      <th>SPMW</th>\n",
       "      <th>SACWT12</th>\n",
       "      <th>SACWE12</th>\n",
       "      <th>WW</th>\n",
       "      <th>AAIW5</th>\n",
       "      <th>AAIW3</th>\n",
       "      <th>MW</th>\n",
       "      <th>LSW</th>\n",
       "      <th>ISOW</th>\n",
       "      <th>DSOW</th>\n",
       "      <th>CDW</th>\n",
       "      <th>WSDW</th>\n",
       "    </tr>\n",
       "  </thead>\n",
       "  <tbody>\n",
       "    <tr>\n",
       "      <th>0</th>\n",
       "      <td>39.8966</td>\n",
       "      <td>-69.9309</td>\n",
       "      <td>252.7</td>\n",
       "      <td>9.564524</td>\n",
       "      <td>35.2279</td>\n",
       "      <td>0.239721</td>\n",
       "      <td>0.0</td>\n",
       "      <td>0.026235</td>\n",
       "      <td>0.0</td>\n",
       "      <td>0.0</td>\n",
       "      <td>0.0</td>\n",
       "      <td>0.000000</td>\n",
       "      <td>0.524896</td>\n",
       "      <td>0.000000</td>\n",
       "      <td>0.209147</td>\n",
       "      <td>0.000000</td>\n",
       "      <td>0.000000</td>\n",
       "      <td>0.0</td>\n",
       "      <td>0.000000</td>\n",
       "      <td>0.000000</td>\n",
       "    </tr>\n",
       "    <tr>\n",
       "      <th>1</th>\n",
       "      <td>39.8966</td>\n",
       "      <td>-69.9309</td>\n",
       "      <td>303.1</td>\n",
       "      <td>8.496589</td>\n",
       "      <td>35.1472</td>\n",
       "      <td>0.102762</td>\n",
       "      <td>0.0</td>\n",
       "      <td>0.009145</td>\n",
       "      <td>0.0</td>\n",
       "      <td>0.0</td>\n",
       "      <td>0.0</td>\n",
       "      <td>0.000000</td>\n",
       "      <td>0.565819</td>\n",
       "      <td>0.000000</td>\n",
       "      <td>0.322275</td>\n",
       "      <td>0.000000</td>\n",
       "      <td>0.000000</td>\n",
       "      <td>0.0</td>\n",
       "      <td>0.000000</td>\n",
       "      <td>0.000000</td>\n",
       "    </tr>\n",
       "    <tr>\n",
       "      <th>2</th>\n",
       "      <td>39.8966</td>\n",
       "      <td>-69.9309</td>\n",
       "      <td>353.3</td>\n",
       "      <td>7.393557</td>\n",
       "      <td>35.0895</td>\n",
       "      <td>0.000000</td>\n",
       "      <td>0.0</td>\n",
       "      <td>0.007423</td>\n",
       "      <td>0.0</td>\n",
       "      <td>0.0</td>\n",
       "      <td>0.0</td>\n",
       "      <td>0.000000</td>\n",
       "      <td>0.529950</td>\n",
       "      <td>0.000000</td>\n",
       "      <td>0.381374</td>\n",
       "      <td>0.081268</td>\n",
       "      <td>0.000000</td>\n",
       "      <td>0.0</td>\n",
       "      <td>0.000000</td>\n",
       "      <td>0.000000</td>\n",
       "    </tr>\n",
       "    <tr>\n",
       "      <th>3</th>\n",
       "      <td>39.8966</td>\n",
       "      <td>-69.9309</td>\n",
       "      <td>403.9</td>\n",
       "      <td>6.440269</td>\n",
       "      <td>35.0392</td>\n",
       "      <td>0.000000</td>\n",
       "      <td>0.0</td>\n",
       "      <td>0.005932</td>\n",
       "      <td>0.0</td>\n",
       "      <td>0.0</td>\n",
       "      <td>0.0</td>\n",
       "      <td>0.000000</td>\n",
       "      <td>0.415799</td>\n",
       "      <td>0.000000</td>\n",
       "      <td>0.301469</td>\n",
       "      <td>0.276812</td>\n",
       "      <td>0.000000</td>\n",
       "      <td>0.0</td>\n",
       "      <td>0.000000</td>\n",
       "      <td>0.000000</td>\n",
       "    </tr>\n",
       "    <tr>\n",
       "      <th>4</th>\n",
       "      <td>39.8966</td>\n",
       "      <td>-69.9309</td>\n",
       "      <td>454.7</td>\n",
       "      <td>6.023806</td>\n",
       "      <td>35.0184</td>\n",
       "      <td>0.000000</td>\n",
       "      <td>0.0</td>\n",
       "      <td>0.005145</td>\n",
       "      <td>0.0</td>\n",
       "      <td>0.0</td>\n",
       "      <td>0.0</td>\n",
       "      <td>0.000000</td>\n",
       "      <td>0.365740</td>\n",
       "      <td>0.000000</td>\n",
       "      <td>0.266598</td>\n",
       "      <td>0.362528</td>\n",
       "      <td>0.000000</td>\n",
       "      <td>0.0</td>\n",
       "      <td>0.000000</td>\n",
       "      <td>0.000000</td>\n",
       "    </tr>\n",
       "    <tr>\n",
       "      <th>...</th>\n",
       "      <td>...</td>\n",
       "      <td>...</td>\n",
       "      <td>...</td>\n",
       "      <td>...</td>\n",
       "      <td>...</td>\n",
       "      <td>...</td>\n",
       "      <td>...</td>\n",
       "      <td>...</td>\n",
       "      <td>...</td>\n",
       "      <td>...</td>\n",
       "      <td>...</td>\n",
       "      <td>...</td>\n",
       "      <td>...</td>\n",
       "      <td>...</td>\n",
       "      <td>...</td>\n",
       "      <td>...</td>\n",
       "      <td>...</td>\n",
       "      <td>...</td>\n",
       "      <td>...</td>\n",
       "      <td>...</td>\n",
       "    </tr>\n",
       "    <tr>\n",
       "      <th>11240</th>\n",
       "      <td>-60.0130</td>\n",
       "      <td>-30.8953</td>\n",
       "      <td>1697.8</td>\n",
       "      <td>-0.016404</td>\n",
       "      <td>34.6681</td>\n",
       "      <td>0.000000</td>\n",
       "      <td>0.0</td>\n",
       "      <td>0.000000</td>\n",
       "      <td>0.0</td>\n",
       "      <td>0.0</td>\n",
       "      <td>0.0</td>\n",
       "      <td>0.000000</td>\n",
       "      <td>0.000000</td>\n",
       "      <td>0.000000</td>\n",
       "      <td>0.000000</td>\n",
       "      <td>0.000000</td>\n",
       "      <td>0.061908</td>\n",
       "      <td>0.0</td>\n",
       "      <td>0.058513</td>\n",
       "      <td>0.879582</td>\n",
       "    </tr>\n",
       "    <tr>\n",
       "      <th>11241</th>\n",
       "      <td>-60.0130</td>\n",
       "      <td>-30.8953</td>\n",
       "      <td>1996.5</td>\n",
       "      <td>-0.119847</td>\n",
       "      <td>34.6641</td>\n",
       "      <td>0.000000</td>\n",
       "      <td>0.0</td>\n",
       "      <td>0.000000</td>\n",
       "      <td>0.0</td>\n",
       "      <td>0.0</td>\n",
       "      <td>0.0</td>\n",
       "      <td>0.001936</td>\n",
       "      <td>0.000000</td>\n",
       "      <td>0.000000</td>\n",
       "      <td>0.000000</td>\n",
       "      <td>0.000000</td>\n",
       "      <td>0.059451</td>\n",
       "      <td>0.0</td>\n",
       "      <td>0.015647</td>\n",
       "      <td>0.922979</td>\n",
       "    </tr>\n",
       "    <tr>\n",
       "      <th>11242</th>\n",
       "      <td>-60.0130</td>\n",
       "      <td>-30.8953</td>\n",
       "      <td>2299.0</td>\n",
       "      <td>-0.180780</td>\n",
       "      <td>34.6618</td>\n",
       "      <td>0.000000</td>\n",
       "      <td>0.0</td>\n",
       "      <td>0.000000</td>\n",
       "      <td>0.0</td>\n",
       "      <td>0.0</td>\n",
       "      <td>0.0</td>\n",
       "      <td>0.026987</td>\n",
       "      <td>0.000000</td>\n",
       "      <td>0.000092</td>\n",
       "      <td>0.000000</td>\n",
       "      <td>0.000000</td>\n",
       "      <td>0.012367</td>\n",
       "      <td>0.0</td>\n",
       "      <td>0.069732</td>\n",
       "      <td>0.890818</td>\n",
       "    </tr>\n",
       "    <tr>\n",
       "      <th>11243</th>\n",
       "      <td>-60.0130</td>\n",
       "      <td>-30.8953</td>\n",
       "      <td>2597.7</td>\n",
       "      <td>-0.218909</td>\n",
       "      <td>34.6601</td>\n",
       "      <td>0.000000</td>\n",
       "      <td>0.0</td>\n",
       "      <td>0.000000</td>\n",
       "      <td>0.0</td>\n",
       "      <td>0.0</td>\n",
       "      <td>0.0</td>\n",
       "      <td>0.029614</td>\n",
       "      <td>0.000000</td>\n",
       "      <td>0.000496</td>\n",
       "      <td>0.000000</td>\n",
       "      <td>0.000000</td>\n",
       "      <td>0.004366</td>\n",
       "      <td>0.0</td>\n",
       "      <td>0.059543</td>\n",
       "      <td>0.905973</td>\n",
       "    </tr>\n",
       "    <tr>\n",
       "      <th>11244</th>\n",
       "      <td>-60.0130</td>\n",
       "      <td>-30.8953</td>\n",
       "      <td>2953.5</td>\n",
       "      <td>-0.237757</td>\n",
       "      <td>34.6595</td>\n",
       "      <td>0.000000</td>\n",
       "      <td>0.0</td>\n",
       "      <td>0.000000</td>\n",
       "      <td>0.0</td>\n",
       "      <td>0.0</td>\n",
       "      <td>0.0</td>\n",
       "      <td>0.032500</td>\n",
       "      <td>0.000000</td>\n",
       "      <td>0.005143</td>\n",
       "      <td>0.000000</td>\n",
       "      <td>0.000000</td>\n",
       "      <td>0.000711</td>\n",
       "      <td>0.0</td>\n",
       "      <td>0.042059</td>\n",
       "      <td>0.919568</td>\n",
       "    </tr>\n",
       "  </tbody>\n",
       "</table>\n",
       "<p>11245 rows × 20 columns</p>\n",
       "</div>"
      ],
      "text/plain": [
       "       LATITUDE  LONGITUDE  CTDPRS   CTDTPOT   CTDSAL   EDW      ENACW12  \\\n",
       "0       39.8966   -69.9309   252.7  9.564524  35.2279  0.239721      0.0   \n",
       "1       39.8966   -69.9309   303.1  8.496589  35.1472  0.102762      0.0   \n",
       "2       39.8966   -69.9309   353.3  7.393557  35.0895  0.000000      0.0   \n",
       "3       39.8966   -69.9309   403.9  6.440269  35.0392  0.000000      0.0   \n",
       "4       39.8966   -69.9309   454.7  6.023806  35.0184  0.000000      0.0   \n",
       "...         ...        ...     ...       ...      ...       ...      ...   \n",
       "11240  -60.0130   -30.8953  1697.8 -0.016404  34.6681  0.000000      0.0   \n",
       "11241  -60.0130   -30.8953  1996.5 -0.119847  34.6641  0.000000      0.0   \n",
       "11242  -60.0130   -30.8953  2299.0 -0.180780  34.6618  0.000000      0.0   \n",
       "11243  -60.0130   -30.8953  2597.7 -0.218909  34.6601  0.000000      0.0   \n",
       "11244  -60.0130   -30.8953  2953.5 -0.237757  34.6595  0.000000      0.0   \n",
       "\n",
       "        WNACW7   SPMW     SACWT12  SACWE12   WW        AAIW5     AAIW3    \\\n",
       "0      0.026235      0.0      0.0      0.0  0.000000  0.524896  0.000000   \n",
       "1      0.009145      0.0      0.0      0.0  0.000000  0.565819  0.000000   \n",
       "2      0.007423      0.0      0.0      0.0  0.000000  0.529950  0.000000   \n",
       "3      0.005932      0.0      0.0      0.0  0.000000  0.415799  0.000000   \n",
       "4      0.005145      0.0      0.0      0.0  0.000000  0.365740  0.000000   \n",
       "...         ...      ...      ...      ...       ...       ...       ...   \n",
       "11240  0.000000      0.0      0.0      0.0  0.000000  0.000000  0.000000   \n",
       "11241  0.000000      0.0      0.0      0.0  0.001936  0.000000  0.000000   \n",
       "11242  0.000000      0.0      0.0      0.0  0.026987  0.000000  0.000092   \n",
       "11243  0.000000      0.0      0.0      0.0  0.029614  0.000000  0.000496   \n",
       "11244  0.000000      0.0      0.0      0.0  0.032500  0.000000  0.005143   \n",
       "\n",
       "        MW        LSW       ISOW     DSOW      CDW       WSDW     \n",
       "0      0.209147  0.000000  0.000000      0.0  0.000000  0.000000  \n",
       "1      0.322275  0.000000  0.000000      0.0  0.000000  0.000000  \n",
       "2      0.381374  0.081268  0.000000      0.0  0.000000  0.000000  \n",
       "3      0.301469  0.276812  0.000000      0.0  0.000000  0.000000  \n",
       "4      0.266598  0.362528  0.000000      0.0  0.000000  0.000000  \n",
       "...         ...       ...       ...      ...       ...       ...  \n",
       "11240  0.000000  0.000000  0.061908      0.0  0.058513  0.879582  \n",
       "11241  0.000000  0.000000  0.059451      0.0  0.015647  0.922979  \n",
       "11242  0.000000  0.000000  0.012367      0.0  0.069732  0.890818  \n",
       "11243  0.000000  0.000000  0.004366      0.0  0.059543  0.905973  \n",
       "11244  0.000000  0.000000  0.000711      0.0  0.042059  0.919568  \n",
       "\n",
       "[11245 rows x 20 columns]"
      ]
     },
     "execution_count": 3,
     "metadata": {},
     "output_type": "execute_result"
    }
   ],
   "source": [
    "df"
   ]
  },
  {
   "cell_type": "markdown",
   "metadata": {},
   "source": [
    "We group the dataset by latitude and longitude, and generate a training and testing set such that any location that appears in the testing set does not appear in the training set and viceversa. These datasets have been saved in two files called train and test for later use."
   ]
  },
  {
   "cell_type": "code",
   "execution_count": 4,
   "metadata": {},
   "outputs": [],
   "source": [
    "gr = df.groupby(['LATITUDE','LONGITUDE'])\n",
    "gr2 = [gr.get_group(x) for x in gr.groups]\n",
    "import random\n",
    "random.seed=15\n",
    "trainingElems = random.sample(range(0,len(gr2)),int(len(gr2)*0.8))\n",
    "trainingGrps = [gr2[i] for i in trainingElems]\n",
    "testingGrps = [gr2[i] for i in range(0,len(gr2)) if i not in trainingElems]\n",
    "trainingdf = pd.concat(trainingGrps)\n",
    "testingdf = pd.concat(testingGrps)\n",
    "trainingdf.to_csv('train.csv')\n",
    "testingdf.to_csv('test.csv')"
   ]
  },
  {
   "cell_type": "code",
   "execution_count": 4,
   "metadata": {},
   "outputs": [],
   "source": [
    "trainingdf = pd.read_csv('train.csv')\n",
    "testingdf = pd.read_csv('test.csv')"
   ]
  },
  {
   "cell_type": "code",
   "execution_count": 5,
   "metadata": {},
   "outputs": [
    {
     "data": {
      "text/plain": [
       "9011"
      ]
     },
     "execution_count": 5,
     "metadata": {},
     "output_type": "execute_result"
    }
   ],
   "source": [
    "len(trainingdf)"
   ]
  },
  {
   "cell_type": "code",
   "execution_count": 6,
   "metadata": {},
   "outputs": [
    {
     "data": {
      "text/plain": [
       "2234"
      ]
     },
     "execution_count": 6,
     "metadata": {},
     "output_type": "execute_result"
    }
   ],
   "source": [
    "len(testingdf)"
   ]
  },
  {
   "cell_type": "markdown",
   "metadata": {},
   "source": [
    "We obtain the samples and their annotations."
   ]
  },
  {
   "cell_type": "code",
   "execution_count": 6,
   "metadata": {},
   "outputs": [],
   "source": [
    "Xtrain,ytrain = trainingdf.values[:,0:5],trainingdf.values[:,5:-3]\n",
    "Xtest,ytest = testingdf.values[:,0:5],testingdf.values[:,5:-3]"
   ]
  },
  {
   "cell_type": "markdown",
   "metadata": {},
   "source": [
    "## Linear regression\n",
    "\n",
    "The first model that we try is a linear regressor. "
   ]
  },
  {
   "cell_type": "code",
   "execution_count": 7,
   "metadata": {},
   "outputs": [
    {
     "data": {
      "text/plain": [
       "LinearRegression(copy_X=True, fit_intercept=True, n_jobs=None,\n",
       "         normalize=False)"
      ]
     },
     "execution_count": 7,
     "metadata": {},
     "output_type": "execute_result"
    }
   ],
   "source": [
    "regr_linear = LinearRegression()\n",
    "regr_linear.fit(Xtrain,ytrain)"
   ]
  },
  {
   "cell_type": "markdown",
   "metadata": {},
   "source": [
    "We evaluate the model using the coefficient of determination R^2 of the prediction (best possible value equals to 1.0) and obtain a value of 0.51. "
   ]
  },
  {
   "cell_type": "code",
   "execution_count": 8,
   "metadata": {},
   "outputs": [
    {
     "data": {
      "text/plain": [
       "0.5166681434803346"
      ]
     },
     "execution_count": 8,
     "metadata": {},
     "output_type": "execute_result"
    }
   ],
   "source": [
    "regr_linear.score(Xtest,ytest)"
   ]
  },
  {
   "cell_type": "markdown",
   "metadata": {},
   "source": [
    "The mean squared error is quite high too."
   ]
  },
  {
   "cell_type": "code",
   "execution_count": 9,
   "metadata": {},
   "outputs": [
    {
     "data": {
      "text/plain": [
       "0.010620055322194916"
      ]
     },
     "execution_count": 9,
     "metadata": {},
     "output_type": "execute_result"
    }
   ],
   "source": [
    "mean_squared_error(ytest, regr_linear.predict(Xtest))"
   ]
  },
  {
   "cell_type": "markdown",
   "metadata": {},
   "source": [
    "Let us try a more complex model; namely, a extremely randomized forest. "
   ]
  },
  {
   "cell_type": "markdown",
   "metadata": {},
   "source": [
    "## ExtraTrees forest"
   ]
  },
  {
   "cell_type": "code",
   "execution_count": 10,
   "metadata": {},
   "outputs": [
    {
     "data": {
      "text/plain": [
       "ExtraTreesRegressor(bootstrap=False, criterion='mse', max_depth=30,\n",
       "          max_features='auto', max_leaf_nodes=None,\n",
       "          min_impurity_decrease=0.0, min_impurity_split=None,\n",
       "          min_samples_leaf=1, min_samples_split=2,\n",
       "          min_weight_fraction_leaf=0.0, n_estimators=100, n_jobs=None,\n",
       "          oob_score=False, random_state=2, verbose=0, warm_start=False)"
      ]
     },
     "execution_count": 10,
     "metadata": {},
     "output_type": "execute_result"
    }
   ],
   "source": [
    "regr_et = ExtraTreesRegressor(n_estimators=100, max_depth=30,\n",
    "                                random_state=2)\n",
    "regr_et.fit(Xtrain, ytrain)"
   ]
  },
  {
   "cell_type": "code",
   "execution_count": 11,
   "metadata": {},
   "outputs": [
    {
     "data": {
      "text/plain": [
       "0.9869016685386148"
      ]
     },
     "execution_count": 11,
     "metadata": {},
     "output_type": "execute_result"
    }
   ],
   "source": [
    "regr_et.score(Xtest,ytest)"
   ]
  },
  {
   "cell_type": "code",
   "execution_count": 12,
   "metadata": {},
   "outputs": [
    {
     "data": {
      "text/plain": [
       "0.00028780433747944945"
      ]
     },
     "execution_count": 12,
     "metadata": {},
     "output_type": "execute_result"
    }
   ],
   "source": [
    "mean_squared_error(ytest, regr_et.predict(Xtest))"
   ]
  },
  {
   "cell_type": "markdown",
   "metadata": {},
   "source": [
    "Saving the model"
   ]
  },
  {
   "cell_type": "code",
   "execution_count": 13,
   "metadata": {},
   "outputs": [],
   "source": [
    "from joblib import dump"
   ]
  },
  {
   "cell_type": "code",
   "execution_count": 14,
   "metadata": {},
   "outputs": [
    {
     "data": {
      "text/plain": [
       "['model_regr_et.joblib']"
      ]
     },
     "execution_count": 14,
     "metadata": {},
     "output_type": "execute_result"
    }
   ],
   "source": [
    "dump(regr_et, 'model_regr_et.joblib') "
   ]
  },
  {
   "cell_type": "markdown",
   "metadata": {},
   "source": [
    "Let us check the importance of each feature for the random forest. "
   ]
  },
  {
   "cell_type": "code",
   "execution_count": 13,
   "metadata": {},
   "outputs": [],
   "source": [
    "relevances = regr_et.feature_importances_\n",
    "indexes = np.argsort(relevances)[::-1]"
   ]
  },
  {
   "cell_type": "code",
   "execution_count": 14,
   "metadata": {},
   "outputs": [
    {
     "data": {
      "image/png": "[encoded data removed]",
      "text/plain": [
       "<Figure size 432x288 with 1 Axes>"
      ]
     },
     "metadata": {
      "needs_background": "light"
     },
     "output_type": "display_data"
    }
   ],
   "source": [
    "plt.title('Feature relevance')\n",
    "plt.bar(range(Xtrain.shape[1]),relevances[indexes],color='lightblue',align='center')\n",
    "plt.xticks(range(Xtrain.shape[1]),df.columns[0:5][indexes],rotation=90)\n",
    "plt.xlim([-1,Xtrain.shape[1]])\n",
    "plt.tight_layout()\n",
    "plt.show()"
   ]
  },
  {
   "cell_type": "code",
   "execution_count": 15,
   "metadata": {},
   "outputs": [
    {
     "data": {
      "text/plain": [
       "array([[0.        , 0.        , 0.        , 0.        , 0.        ,\n",
       "        0.        , 0.02151037, 0.00814621, 0.19070153, 0.        ,\n",
       "        0.06743477, 0.00145126, 0.        , 0.70744268, 0.0033271 ]])"
      ]
     },
     "execution_count": 15,
     "metadata": {},
     "output_type": "execute_result"
    }
   ],
   "source": [
    "regr_et.predict([Xtest[0]])"
   ]
  },
  {
   "cell_type": "code",
   "execution_count": 16,
   "metadata": {},
   "outputs": [
    {
     "data": {
      "text/plain": [
       "array([0.        , 0.        , 0.        , 0.        , 0.        ,\n",
       "       0.        , 0.        , 0.        , 0.22841746, 0.        ,\n",
       "       0.07304901, 0.        , 0.        , 0.69865354, 0.        ])"
      ]
     },
     "execution_count": 16,
     "metadata": {},
     "output_type": "execute_result"
    }
   ],
   "source": [
    "ytest[0]"
   ]
  },
  {
   "cell_type": "markdown",
   "metadata": {},
   "source": [
    "## Random forest"
   ]
  },
  {
   "cell_type": "code",
   "execution_count": 17,
   "metadata": {},
   "outputs": [
    {
     "data": {
      "text/plain": [
       "RandomForestRegressor(bootstrap=True, criterion='mse', max_depth=30,\n",
       "           max_features='auto', max_leaf_nodes=None,\n",
       "           min_impurity_decrease=0.0, min_impurity_split=None,\n",
       "           min_samples_leaf=1, min_samples_split=2,\n",
       "           min_weight_fraction_leaf=0.0, n_estimators=100, n_jobs=None,\n",
       "           oob_score=False, random_state=2, verbose=0, warm_start=False)"
      ]
     },
     "execution_count": 17,
     "metadata": {},
     "output_type": "execute_result"
    }
   ],
   "source": [
    "regr_rf = RandomForestRegressor(n_estimators=100, max_depth=30,\n",
    "                                random_state=2)\n",
    "regr_rf.fit(Xtrain, ytrain)"
   ]
  },
  {
   "cell_type": "code",
   "execution_count": 18,
   "metadata": {},
   "outputs": [
    {
     "data": {
      "text/plain": [
       "0.9794503313354641"
      ]
     },
     "execution_count": 18,
     "metadata": {},
     "output_type": "execute_result"
    }
   ],
   "source": [
    "regr_rf.score(Xtest,ytest)"
   ]
  },
  {
   "cell_type": "code",
   "execution_count": 19,
   "metadata": {},
   "outputs": [
    {
     "data": {
      "text/plain": [
       "0.00045152955495550954"
      ]
     },
     "execution_count": 19,
     "metadata": {},
     "output_type": "execute_result"
    }
   ],
   "source": [
    "mean_squared_error(ytest, regr_rf.predict(Xtest))"
   ]
  },
  {
   "cell_type": "markdown",
   "metadata": {},
   "source": [
    "Let us check the importance of each feature for the random forest. "
   ]
  },
  {
   "cell_type": "code",
   "execution_count": 20,
   "metadata": {},
   "outputs": [],
   "source": [
    "relevances = regr_rf.feature_importances_\n",
    "indexes = np.argsort(relevances)[::-1]"
   ]
  },
  {
   "cell_type": "code",
   "execution_count": 21,
   "metadata": {},
   "outputs": [
    {
     "data": {
      "image/png": "[encoded data removed]",
      "text/plain": [
       "<Figure size 432x288 with 1 Axes>"
      ]
     },
     "metadata": {
      "needs_background": "light"
     },
     "output_type": "display_data"
    }
   ],
   "source": [
    "plt.title('Feature relevance')\n",
    "plt.bar(range(Xtrain.shape[1]),relevances[indexes],color='lightblue',align='center')\n",
    "plt.xticks(range(Xtrain.shape[1]),df.columns[0:5][indexes],rotation=90)\n",
    "plt.xlim([-1,Xtrain.shape[1]])\n",
    "plt.tight_layout()\n",
    "plt.show()"
   ]
  },
  {
   "cell_type": "code",
   "execution_count": 22,
   "metadata": {},
   "outputs": [
    {
     "data": {
      "text/plain": [
       "array([[0.00000000e+00, 0.00000000e+00, 0.00000000e+00, 0.00000000e+00,\n",
       "        0.00000000e+00, 0.00000000e+00, 1.66235705e-02, 7.29537298e-03,\n",
       "        1.98179521e-01, 5.38000000e-07, 5.50898878e-02, 0.00000000e+00,\n",
       "        0.00000000e+00, 7.22770648e-01, 5.02462718e-05]])"
      ]
     },
     "execution_count": 22,
     "metadata": {},
     "output_type": "execute_result"
    }
   ],
   "source": [
    "regr_rf.predict([Xtest[0]])"
   ]
  },
  {
   "cell_type": "code",
   "execution_count": 23,
   "metadata": {},
   "outputs": [
    {
     "data": {
      "text/plain": [
       "array([0.        , 0.        , 0.        , 0.        , 0.        ,\n",
       "       0.        , 0.        , 0.        , 0.22841746, 0.        ,\n",
       "       0.07304901, 0.        , 0.        , 0.69865354, 0.        ])"
      ]
     },
     "execution_count": 23,
     "metadata": {},
     "output_type": "execute_result"
    }
   ],
   "source": [
    "ytest[0]"
   ]
  },
  {
   "cell_type": "markdown",
   "metadata": {},
   "source": [
    "## We try other models"
   ]
  },
  {
   "cell_type": "code",
   "execution_count": 24,
   "metadata": {},
   "outputs": [],
   "source": [
    "ESTIMATORS = {\n",
    "    \"Extra trees\": ExtraTreesRegressor(),\n",
    "    \"K-nn\": KNeighborsRegressor(),                          # Accept default parameters\n",
    "    \"Linear regression\": LinearRegression(),\n",
    "    \"Ridge\": RidgeCV(),\n",
    "    \"Lasso\": Lasso(),\n",
    "    \"ElasticNet\": ElasticNet(random_state=0),\n",
    "    \"RandomForestRegressor\": RandomForestRegressor(n_estimators=100, max_depth=30, random_state=2),\n",
    "    \"ExtraTreesRegressor\": ExtraTreesRegressor(n_estimators=100, max_depth=30, random_state=2),\n",
    "    \"Decision Tree Regressor\":DecisionTreeRegressor(max_depth=5),\n",
    "    \"MultiO/P GBR\" :MultiOutputRegressor(GradientBoostingRegressor(n_estimators=5)),\n",
    "    \"MultiO/P AdaB\" :MultiOutputRegressor(AdaBoostRegressor(n_estimators=5))\n",
    "}"
   ]
  },
  {
   "cell_type": "code",
   "execution_count": 25,
   "metadata": {},
   "outputs": [
    {
     "name": "stderr",
     "output_type": "stream",
     "text": [
      "/home/jonathan/.virtualenvs/cv/lib/python3.6/site-packages/sklearn/ensemble/forest.py:246: FutureWarning: The default value of n_estimators will change from 10 in version 0.20 to 100 in 0.22.\n",
      "  \"10 in version 0.20 to 100 in 0.22.\", FutureWarning)\n"
     ]
    },
    {
     "name": "stdout",
     "output_type": "stream",
     "text": [
      "Extra trees. mse: 0.000335, score: 0.984743\n",
      "K-nn. mse: 0.002603, score: 0.881520\n",
      "Linear regression. mse: 0.010620, score: 0.516668\n",
      "Ridge. mse: 0.010620, score: 0.516671\n",
      "Lasso. mse: 0.015900, score: 0.276375\n",
      "ElasticNet. mse: 0.015477, score: 0.295620\n",
      "RandomForestRegressor. mse: 0.000452, score: 0.979450\n",
      "ExtraTreesRegressor. mse: 0.000288, score: 0.986902\n",
      "Decision Tree Regressor. mse: 0.005178, score: 0.764324\n",
      "MultiO/P GBR. mse: 0.009717, score: 0.481618\n",
      "MultiO/P AdaB. mse: 0.002412, score: 0.764847\n"
     ]
    }
   ],
   "source": [
    "for name, estimator in ESTIMATORS.items():     \n",
    "    estimator.fit(Xtrain, ytrain)  \n",
    "    print(\"%s. mse: %f, score: %f\" % (name,mean_squared_error(ytest, estimator.predict(Xtest)),\n",
    "                                      estimator.score(Xtest,ytest)))"
   ]
  },
  {
   "cell_type": "code",
   "execution_count": null,
   "metadata": {},
   "outputs": [],
   "source": []
  }
 ],
 "metadata": {
  "kernelspec": {
   "display_name": "Python 3",
   "language": "python",
   "name": "python3"
  },
  "language_info": {
   "codemirror_mode": {
    "name": "ipython",
    "version": 3
   },
   "file_extension": ".py",
   "mimetype": "text/x-python",
   "name": "python",
   "nbconvert_exporter": "python",
   "pygments_lexer": "ipython3",
   "version": "3.6.7"
  }
 },
 "nbformat": 4,
 "nbformat_minor": 2
}
