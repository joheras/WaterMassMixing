{
 "cells": [
  {
   "cell_type": "markdown",
   "metadata": {},
   "source": [
    "# Check for overfitting"
   ]
  },
  {
   "cell_type": "code",
   "execution_count": null,
   "metadata": {},
   "outputs": [],
   "source": [
    "#pip install StatisticalAnalysis"
   ]
  },
  {
   "cell_type": "code",
   "execution_count": null,
   "metadata": {},
   "outputs": [],
   "source": [
    "#pip install tabulate"
   ]
  },
  {
   "cell_type": "code",
   "execution_count": 1,
   "metadata": {},
   "outputs": [],
   "source": [
    "import pandas as pd\n",
    "from numpy import mean\n",
    "from numpy import std\n",
    "import numpy as np\n",
    "import matplotlib.pyplot as plt\n",
    "\n",
    "from sklearn.neighbors import KNeighborsRegressor\n",
    "from sklearn.linear_model import Lasso\n",
    "from sklearn.linear_model import ElasticNet\n",
    "from sklearn.linear_model import LinearRegression\n",
    "from sklearn.linear_model import RidgeCV\n",
    "\n",
    "from sklearn.ensemble import ExtraTreesRegressor\n",
    "from sklearn.ensemble import GradientBoostingRegressor\n",
    "from sklearn.ensemble import RandomForestRegressor\n",
    "from sklearn.ensemble import AdaBoostRegressor\n",
    "\n",
    "from sklearn.tree import DecisionTreeRegressor\n",
    "\n",
    "from sklearn.multioutput import MultiOutputRegressor\n",
    "\n",
    "from sklearn.metrics import mean_squared_error\n",
    "from sklearn.preprocessing import StandardScaler\n",
    "from sklearn.model_selection import train_test_split\n",
    "from sklearn.model_selection import KFold\n",
    "from sklearn.model_selection import cross_val_score\n",
    "from sklearn.model_selection import cross_validate"
   ]
  },
  {
   "cell_type": "markdown",
   "metadata": {},
   "source": [
    "### Loading datasets and building new ones"
   ]
  },
  {
   "cell_type": "code",
   "execution_count": 2,
   "metadata": {},
   "outputs": [],
   "source": [
    "dfTrain = pd.read_csv('train.csv', sep=',')\n",
    "dfTest = pd.read_csv('test.csv', sep=',')"
   ]
  },
  {
   "cell_type": "markdown",
   "metadata": {},
   "source": [
    "Splitting the Testing data set in two new datasets. Each group has the half of groups (Latitude-Longitude)."
   ]
  },
  {
   "cell_type": "code",
   "execution_count": 3,
   "metadata": {},
   "outputs": [],
   "source": [
    "gr = dfTest.groupby(['LATITUDE','LONGITUDE'])\n",
    "gr2 = [gr.get_group(x) for x in gr.groups]\n",
    "import random\n",
    "random.seed=15\n",
    "testingElems = random.sample(range(0,len(gr2)),int(len(gr2)*0.5))\n",
    "test2Grps = [gr2[i] for i in testingElems]\n",
    "test1Grps = [gr2[i] for i in range(0,len(gr2)) if i not in testingElems]\n",
    "test2df = pd.concat(test2Grps)\n",
    "test1df = pd.concat(test1Grps)"
   ]
  },
  {
   "cell_type": "code",
   "execution_count": 4,
   "metadata": {},
   "outputs": [
    {
     "data": {
      "text/plain": [
       "63"
      ]
     },
     "execution_count": 4,
     "metadata": {},
     "output_type": "execute_result"
    }
   ],
   "source": [
    "gr = test2df.groupby(['LATITUDE','LONGITUDE']) #checking the number of groups\n",
    "len(gr)\n",
    "gr = test1df.groupby(['LATITUDE','LONGITUDE'])\n",
    "len(gr)"
   ]
  },
  {
   "cell_type": "markdown",
   "metadata": {},
   "source": [
    "Keeping test1 and split the 50% of instances of test2 in two new datasets"
   ]
  },
  {
   "cell_type": "code",
   "execution_count": 37,
   "metadata": {},
   "outputs": [],
   "source": [
    "test2shuffled=test2df.sample(frac=1).reset_index(drop=True)"
   ]
  },
  {
   "cell_type": "code",
   "execution_count": 6,
   "metadata": {},
   "outputs": [
    {
     "data": {
      "text/plain": [
       "556"
      ]
     },
     "execution_count": 6,
     "metadata": {},
     "output_type": "execute_result"
    }
   ],
   "source": [
    "# Creating a dataframe with 50%\n",
    "# values of original dataframe\n",
    "test2_part_1 = test2shuffled.sample(frac = 0.5)\n",
    "len(test2_part_1)"
   ]
  },
  {
   "cell_type": "code",
   "execution_count": 7,
   "metadata": {},
   "outputs": [
    {
     "data": {
      "text/plain": [
       "557"
      ]
     },
     "execution_count": 7,
     "metadata": {},
     "output_type": "execute_result"
    }
   ],
   "source": [
    "# Creating dataframe with \n",
    "# rest of the 50% values\n",
    "test2_part_2 = test2shuffled.drop(test2_part_1.index)\n",
    "len(test2_part_2)"
   ]
  },
  {
   "cell_type": "markdown",
   "metadata": {},
   "source": [
    "Creating the new training dataset with the training-file and the half of instances of the dataset called test2.\n",
    "The train1 is the train-file + the instances in test2_part2-file.\n",
    "The train2 is the train-file."
   ]
  },
  {
   "cell_type": "code",
   "execution_count": 8,
   "metadata": {},
   "outputs": [],
   "source": [
    "train2=pd.concat([dfTrain,test2_part_2])"
   ]
  },
  {
   "cell_type": "code",
   "execution_count": 10,
   "metadata": {},
   "outputs": [],
   "source": [
    "train1=dfTrain"
   ]
  },
  {
   "cell_type": "markdown",
   "metadata": {},
   "source": [
    "Creating the new testing dataset (test2_2) with the data of test1df + test2_part_1"
   ]
  },
  {
   "cell_type": "code",
   "execution_count": 12,
   "metadata": {},
   "outputs": [],
   "source": [
    "test2_2=pd.concat([test1df,test2_part_1])"
   ]
  },
  {
   "cell_type": "markdown",
   "metadata": {},
   "source": [
    "### Obtaining the samples and their annotations"
   ]
  },
  {
   "cell_type": "code",
   "execution_count": 16,
   "metadata": {},
   "outputs": [],
   "source": [
    "Xtrain1,ytrain1 = train1.values[:,0:5],train1.values[:,5:-3]\n",
    "Xtrain2,ytrain2 = train2.values[:,0:5],train2.values[:,5:-3]\n",
    "Xtest2,ytest2 = test2_2.values[:,0:5],test2_2.values[:,5:-3]\n",
    "Xtest1,ytest1 = test1df.values[:,0:5],test1df.values[:,5:-3]"
   ]
  },
  {
   "cell_type": "markdown",
   "metadata": {},
   "source": [
    "### k-Fold Cross Validation (k=10)"
   ]
  },
  {
   "cell_type": "code",
   "execution_count": 17,
   "metadata": {},
   "outputs": [],
   "source": [
    "#remove the algorithm \"Extra trees\": ExtraTreesRegressor(),\n",
    "ESTIMATORS = {\n",
    "    \"K-nn\": KNeighborsRegressor(),                          # Accept default parameters\n",
    "    \"Linear regression\": LinearRegression(),\n",
    "    \"Ridge\": RidgeCV(),\n",
    "    \"Lasso\": Lasso(),\n",
    "    \"ElasticNet\": ElasticNet(random_state=0),\n",
    "    \"RandomForestRegressor\": RandomForestRegressor(n_estimators=100, max_depth=30, random_state=2),\n",
    "    \"ExtraTreesRegressor\": ExtraTreesRegressor(n_estimators=100, max_depth=30, random_state=2),\n",
    "    \"Decision Tree Regressor\":DecisionTreeRegressor(max_depth=5),\n",
    "    \"MultiO/P GBR\" :MultiOutputRegressor(GradientBoostingRegressor(n_estimators=5)),\n",
    "    \"MultiO/P AdaB\" :MultiOutputRegressor(AdaBoostRegressor(n_estimators=5))\n",
    "}"
   ]
  },
  {
   "cell_type": "markdown",
   "metadata": {},
   "source": [
    "### From dataset train1"
   ]
  },
  {
   "cell_type": "code",
   "execution_count": 25,
   "metadata": {},
   "outputs": [],
   "source": [
    "r2_scores = pd.DataFrame()\n",
    "nmse_scores = pd.DataFrame()"
   ]
  },
  {
   "cell_type": "code",
   "execution_count": 19,
   "metadata": {
    "scrolled": false
   },
   "outputs": [
    {
     "name": "stderr",
     "output_type": "stream",
     "text": [
      "C:\\Users\\gamata\\Anaconda3\\lib\\site-packages\\sklearn\\model_selection\\_split.py:293: FutureWarning: Setting a random_state has no effect since shuffle is False. This will raise an error in 0.24. You should leave random_state to its default (None), or set shuffle=True.\n",
      "  warnings.warn(\n"
     ]
    },
    {
     "name": "stdout",
     "output_type": "stream",
     "text": [
      "K-nn. r2: 0.820 (0.028)\n",
      "K-nn. neg_mean_squared_error: -0.003 (0.001)\n",
      "Linear regression. r2: 0.338 (0.015)\n",
      "Linear regression. neg_mean_squared_error: -0.011 (0.001)\n",
      "Ridge. r2: 0.338 (0.015)\n",
      "Ridge. neg_mean_squared_error: -0.011 (0.001)\n",
      "Lasso. r2: 0.162 (0.008)\n",
      "Lasso. neg_mean_squared_error: -0.016 (0.001)\n",
      "ElasticNet. r2: 0.182 (0.007)\n",
      "ElasticNet. neg_mean_squared_error: -0.016 (0.001)\n",
      "RandomForestRegressor. r2: 0.962 (0.012)\n",
      "RandomForestRegressor. neg_mean_squared_error: -0.000 (0.000)\n",
      "ExtraTreesRegressor. r2: 0.973 (0.008)\n",
      "ExtraTreesRegressor. neg_mean_squared_error: -0.000 (0.000)\n",
      "Decision Tree Regressor. r2: 0.574 (0.025)\n",
      "Decision Tree Regressor. neg_mean_squared_error: -0.004 (0.000)\n",
      "MultiO/P GBR. r2: 0.508 (0.023)\n",
      "MultiO/P GBR. neg_mean_squared_error: -0.010 (0.000)\n",
      "MultiO/P AdaB. r2: 0.838 (0.026)\n",
      "MultiO/P AdaB. neg_mean_squared_error: -0.002 (0.000)\n"
     ]
    }
   ],
   "source": [
    "cv = KFold(n_splits=10, random_state=1)\n",
    "for name, estimator in ESTIMATORS.items():  \n",
    "    scores = cross_validate(estimator, Xtrain1, ytrain1, scoring=('r2', 'neg_mean_squared_error'), cv=cv, n_jobs=-1)\n",
    "    print('%s. r2: %.3f (%.3f)' % (name, mean(scores['test_r2']), std(scores['test_r2'])))\n",
    "    r2_scores[name]=scores['test_r2'].tolist()\n",
    "    print('%s. neg_mean_squared_error: %.3f (%.3f)' % (name, mean(scores['test_neg_mean_squared_error']), std(scores['test_neg_mean_squared_error'])))\n",
    "    nmse_scores[name]=scores['test_neg_mean_squared_error']\n",
    "    "
   ]
  },
  {
   "cell_type": "code",
   "execution_count": 20,
   "metadata": {},
   "outputs": [
    {
     "data": {
      "text/html": [
       "<div>\n",
       "<style scoped>\n",
       "    .dataframe tbody tr th:only-of-type {\n",
       "        vertical-align: middle;\n",
       "    }\n",
       "\n",
       "    .dataframe tbody tr th {\n",
       "        vertical-align: top;\n",
       "    }\n",
       "\n",
       "    .dataframe thead th {\n",
       "        text-align: right;\n",
       "    }\n",
       "</style>\n",
       "<table border=\"1\" class=\"dataframe\">\n",
       "  <thead>\n",
       "    <tr style=\"text-align: right;\">\n",
       "      <th></th>\n",
       "      <th>0</th>\n",
       "      <th>1</th>\n",
       "      <th>2</th>\n",
       "      <th>3</th>\n",
       "      <th>4</th>\n",
       "      <th>5</th>\n",
       "      <th>6</th>\n",
       "      <th>7</th>\n",
       "      <th>8</th>\n",
       "      <th>9</th>\n",
       "    </tr>\n",
       "  </thead>\n",
       "  <tbody>\n",
       "    <tr>\n",
       "      <th>K-nn</th>\n",
       "      <td>0.843518</td>\n",
       "      <td>0.794628</td>\n",
       "      <td>0.854584</td>\n",
       "      <td>0.845662</td>\n",
       "      <td>0.832036</td>\n",
       "      <td>0.844899</td>\n",
       "      <td>0.827285</td>\n",
       "      <td>0.765974</td>\n",
       "      <td>0.788044</td>\n",
       "      <td>0.804721</td>\n",
       "    </tr>\n",
       "    <tr>\n",
       "      <th>Linear regression</th>\n",
       "      <td>0.323663</td>\n",
       "      <td>0.346763</td>\n",
       "      <td>0.306295</td>\n",
       "      <td>0.352969</td>\n",
       "      <td>0.351944</td>\n",
       "      <td>0.348930</td>\n",
       "      <td>0.337464</td>\n",
       "      <td>0.327520</td>\n",
       "      <td>0.355695</td>\n",
       "      <td>0.330350</td>\n",
       "    </tr>\n",
       "    <tr>\n",
       "      <th>Ridge</th>\n",
       "      <td>0.323665</td>\n",
       "      <td>0.346765</td>\n",
       "      <td>0.306304</td>\n",
       "      <td>0.352968</td>\n",
       "      <td>0.351944</td>\n",
       "      <td>0.348931</td>\n",
       "      <td>0.337466</td>\n",
       "      <td>0.327523</td>\n",
       "      <td>0.355696</td>\n",
       "      <td>0.330350</td>\n",
       "    </tr>\n",
       "    <tr>\n",
       "      <th>Lasso</th>\n",
       "      <td>0.153787</td>\n",
       "      <td>0.160217</td>\n",
       "      <td>0.167582</td>\n",
       "      <td>0.170861</td>\n",
       "      <td>0.169626</td>\n",
       "      <td>0.164352</td>\n",
       "      <td>0.160160</td>\n",
       "      <td>0.146202</td>\n",
       "      <td>0.170557</td>\n",
       "      <td>0.153296</td>\n",
       "    </tr>\n",
       "    <tr>\n",
       "      <th>ElasticNet</th>\n",
       "      <td>0.172558</td>\n",
       "      <td>0.183651</td>\n",
       "      <td>0.184439</td>\n",
       "      <td>0.190346</td>\n",
       "      <td>0.189560</td>\n",
       "      <td>0.185220</td>\n",
       "      <td>0.180284</td>\n",
       "      <td>0.169097</td>\n",
       "      <td>0.190424</td>\n",
       "      <td>0.175373</td>\n",
       "    </tr>\n",
       "    <tr>\n",
       "      <th>RandomForestRegressor</th>\n",
       "      <td>0.960686</td>\n",
       "      <td>0.955460</td>\n",
       "      <td>0.984186</td>\n",
       "      <td>0.957784</td>\n",
       "      <td>0.948143</td>\n",
       "      <td>0.958629</td>\n",
       "      <td>0.980704</td>\n",
       "      <td>0.968380</td>\n",
       "      <td>0.963054</td>\n",
       "      <td>0.946722</td>\n",
       "    </tr>\n",
       "    <tr>\n",
       "      <th>ExtraTreesRegressor</th>\n",
       "      <td>0.974329</td>\n",
       "      <td>0.963662</td>\n",
       "      <td>0.984643</td>\n",
       "      <td>0.959056</td>\n",
       "      <td>0.970502</td>\n",
       "      <td>0.972863</td>\n",
       "      <td>0.984140</td>\n",
       "      <td>0.966215</td>\n",
       "      <td>0.977279</td>\n",
       "      <td>0.977221</td>\n",
       "    </tr>\n",
       "    <tr>\n",
       "      <th>Decision Tree Regressor</th>\n",
       "      <td>0.592398</td>\n",
       "      <td>0.591236</td>\n",
       "      <td>0.550522</td>\n",
       "      <td>0.577642</td>\n",
       "      <td>0.605542</td>\n",
       "      <td>0.513260</td>\n",
       "      <td>0.584255</td>\n",
       "      <td>0.571856</td>\n",
       "      <td>0.568687</td>\n",
       "      <td>0.583400</td>\n",
       "    </tr>\n",
       "    <tr>\n",
       "      <th>MultiO/P GBR</th>\n",
       "      <td>0.496796</td>\n",
       "      <td>0.512493</td>\n",
       "      <td>0.497471</td>\n",
       "      <td>0.496343</td>\n",
       "      <td>0.506785</td>\n",
       "      <td>0.485909</td>\n",
       "      <td>0.555739</td>\n",
       "      <td>0.479807</td>\n",
       "      <td>0.504854</td>\n",
       "      <td>0.541797</td>\n",
       "    </tr>\n",
       "    <tr>\n",
       "      <th>MultiO/P AdaB</th>\n",
       "      <td>0.827661</td>\n",
       "      <td>0.833145</td>\n",
       "      <td>0.867171</td>\n",
       "      <td>0.834593</td>\n",
       "      <td>0.843220</td>\n",
       "      <td>0.836605</td>\n",
       "      <td>0.858514</td>\n",
       "      <td>0.770130</td>\n",
       "      <td>0.852290</td>\n",
       "      <td>0.857580</td>\n",
       "    </tr>\n",
       "  </tbody>\n",
       "</table>\n",
       "</div>"
      ],
      "text/plain": [
       "                                0         1         2         3         4  \\\n",
       "K-nn                     0.843518  0.794628  0.854584  0.845662  0.832036   \n",
       "Linear regression        0.323663  0.346763  0.306295  0.352969  0.351944   \n",
       "Ridge                    0.323665  0.346765  0.306304  0.352968  0.351944   \n",
       "Lasso                    0.153787  0.160217  0.167582  0.170861  0.169626   \n",
       "ElasticNet               0.172558  0.183651  0.184439  0.190346  0.189560   \n",
       "RandomForestRegressor    0.960686  0.955460  0.984186  0.957784  0.948143   \n",
       "ExtraTreesRegressor      0.974329  0.963662  0.984643  0.959056  0.970502   \n",
       "Decision Tree Regressor  0.592398  0.591236  0.550522  0.577642  0.605542   \n",
       "MultiO/P GBR             0.496796  0.512493  0.497471  0.496343  0.506785   \n",
       "MultiO/P AdaB            0.827661  0.833145  0.867171  0.834593  0.843220   \n",
       "\n",
       "                                5         6         7         8         9  \n",
       "K-nn                     0.844899  0.827285  0.765974  0.788044  0.804721  \n",
       "Linear regression        0.348930  0.337464  0.327520  0.355695  0.330350  \n",
       "Ridge                    0.348931  0.337466  0.327523  0.355696  0.330350  \n",
       "Lasso                    0.164352  0.160160  0.146202  0.170557  0.153296  \n",
       "ElasticNet               0.185220  0.180284  0.169097  0.190424  0.175373  \n",
       "RandomForestRegressor    0.958629  0.980704  0.968380  0.963054  0.946722  \n",
       "ExtraTreesRegressor      0.972863  0.984140  0.966215  0.977279  0.977221  \n",
       "Decision Tree Regressor  0.513260  0.584255  0.571856  0.568687  0.583400  \n",
       "MultiO/P GBR             0.485909  0.555739  0.479807  0.504854  0.541797  \n",
       "MultiO/P AdaB            0.836605  0.858514  0.770130  0.852290  0.857580  "
      ]
     },
     "execution_count": 20,
     "metadata": {},
     "output_type": "execute_result"
    }
   ],
   "source": [
    "r2_scores=r2_scores.transpose()\n",
    "r2_scores"
   ]
  },
  {
   "cell_type": "code",
   "execution_count": 21,
   "metadata": {},
   "outputs": [],
   "source": [
    "r2_scores.to_csv(r'C:\\Users\\gamata\\Documents\\004_Proyectos\\011_Mares_Edu_y_Jonathan\\r2_scores.csv')"
   ]
  },
  {
   "cell_type": "code",
   "execution_count": 22,
   "metadata": {},
   "outputs": [
    {
     "name": "stdout",
     "output_type": "stream",
     "text": [
      "r2_scores.csv\n",
      "['K-nn' 'Linear regression' 'Ridge' 'Lasso' 'ElasticNet'\n",
      " 'RandomForestRegressor' 'ExtraTreesRegressor' 'Decision Tree Regressor'\n",
      " 'MultiO/P GBR' 'MultiO/P AdaB']\n",
      "==========================================================\n",
      "Report\n",
      "==========================================================\n",
      "**********************************************************\n",
      "Mean and std\n",
      "**********************************************************\n",
      "K-nn: 0.820135 (0.028360)\n",
      "Linear regression: 0.338159 (0.015189)\n",
      "Ridge: 0.338161 (0.015187)\n",
      "Lasso: 0.161664 (0.008030)\n",
      "ElasticNet: 0.182095 (0.007206)\n",
      "RandomForestRegressor: 0.962375 (0.011754)\n",
      "ExtraTreesRegressor: 0.972991 (0.007947)\n",
      "Decision Tree Regressor: 0.573880 (0.024719)\n",
      "MultiO/P GBR: 0.507799 (0.022600)\n",
      "MultiO/P AdaB: 0.838091 (0.025762)\n",
      "**********************************************************\n",
      "Statistical tests\n",
      "**********************************************************\n",
      "----------------------------------------------------------\n",
      "Checking parametric conditions \n",
      "----------------------------------------------------------\n",
      "Checking independence \n",
      "Ok\n",
      "Checking normality using Shapiro-Wilk's test for normality, alpha=0.05\n",
      "W: 0.885694, p:0.000000\n",
      "The null hypothesis (normality) is rejected\n",
      "Checking heteroscedasticity using Levene's test, alpha=0.05\n",
      "W: 2.031746, p:0.044540\n",
      "The null hypothesis (heteroscedasticity) is rejected\n",
      "Conditions for a parametric test are not fulfilled, applying a non-parametric test\n",
      "----------------------------------------------------------\n",
      "Working with more than 2 algorithms\n",
      "----------------------------------------------------------\n",
      "----------------------------------------------------------\n",
      "Applying Friedman test\n",
      "----------------------------------------------------------\n",
      "F-value: 798.065217, p-value: 1.1102230246251565e-16\n",
      "Null hypothesis is rejected; hence, models have different performance\n",
      "Technique                  Ranking\n",
      "-----------------------  ---------\n",
      "ExtraTreesRegressor            9.9\n",
      "RandomForestRegressor          9.1\n",
      "MultiO/P AdaB                  7.7\n",
      "K-nn                           7.3\n",
      "Decision Tree Regressor        6\n",
      "MultiO/P GBR                   5\n",
      "Ridge                          3.8\n",
      "Linear regression              3.2\n",
      "ElasticNet                     2\n",
      "Lasso                          1\n",
      "Winner model: ExtraTreesRegressor\n",
      "----------------------------------------------------------\n",
      "Applying Holm p-value adjustment procedure and analysing effect size\n",
      "----------------------------------------------------------\n",
      "Comparison                                        Zvalue      p-value    adjusted p-value\n",
      "----------------------------------------------  --------  -----------  ------------------\n",
      "ExtraTreesRegressor vs Lasso                    6.57309   4.9283e-11          4.43547e-10\n",
      "ExtraTreesRegressor vs ElasticNet               5.83454   5.39402e-09         4.31522e-08\n",
      "ExtraTreesRegressor vs Linear regression        4.94828   7.48729e-07         5.24111e-06\n",
      "ExtraTreesRegressor vs Ridge                    4.50515   6.63265e-06         3.97959e-05\n",
      "ExtraTreesRegressor vs MultiO/P GBR             3.61889   0.00029587          0.00147935\n",
      "ExtraTreesRegressor vs Decision Tree Regressor  2.88034   0.00397245          0.0158898\n",
      "ExtraTreesRegressor vs K-nn                     1.92023   0.0548292           0.164488\n",
      "ExtraTreesRegressor vs MultiO/P AdaB            1.62481   0.104204            0.208407\n",
      "ExtraTreesRegressor vs RandomForestRegressor    0.590839  0.554628            0.554628\n",
      "There is a significant difference between the models: ExtraTreesRegressor (mean: 0.972991, std: 0.007947) and Lasso (mean: 0.161664, std: 0.008030) (Cohen's d=96.3512081206786, Large)\n",
      "There is a significant difference between the models: ExtraTreesRegressor (mean: 0.972991, std: 0.007947) and ElasticNet (mean: 0.182095, std: 0.007206) (Cohen's d=98.91731939983285, Large)\n"
     ]
    },
    {
     "ename": "KeyError",
     "evalue": "'regression'",
     "output_type": "error",
     "traceback": [
      "\u001b[1;31m---------------------------------------------------------------------------\u001b[0m",
      "\u001b[1;31mKeyError\u001b[0m                                  Traceback (most recent call last)",
      "\u001b[1;32m<ipython-input-22-c57f8984e234>\u001b[0m in \u001b[0;36m<module>\u001b[1;34m\u001b[0m\n\u001b[0;32m      1\u001b[0m \u001b[1;32mfrom\u001b[0m \u001b[0mStatisticalAnalysis\u001b[0m \u001b[1;32mimport\u001b[0m \u001b[0mstatisticalComparison\u001b[0m\u001b[1;33m\u001b[0m\u001b[1;33m\u001b[0m\u001b[0m\n\u001b[1;32m----> 2\u001b[1;33m \u001b[0mstatisticalComparison\u001b[0m\u001b[1;33m(\u001b[0m\u001b[1;34m'r2_scores.csv'\u001b[0m\u001b[1;33m)\u001b[0m\u001b[1;33m\u001b[0m\u001b[1;33m\u001b[0m\u001b[0m\n\u001b[0m",
      "\u001b[1;32m~\\Anaconda3\\lib\\site-packages\\StatisticalAnalysis\\statisticalComparison.py\u001b[0m in \u001b[0;36mstatisticalComparison\u001b[1;34m(dataset, alpha)\u001b[0m\n\u001b[0;32m    332\u001b[0m             \u001b[0mprint\u001b[0m\u001b[1;33m(\u001b[0m\u001b[1;34m\"Working with more than 2 algorithms\"\u001b[0m\u001b[1;33m)\u001b[0m\u001b[1;33m\u001b[0m\u001b[1;33m\u001b[0m\u001b[0m\n\u001b[0;32m    333\u001b[0m             \u001b[0mprint\u001b[0m\u001b[1;33m(\u001b[0m\u001b[1;34m\"----------------------------------------------------------\"\u001b[0m\u001b[1;33m)\u001b[0m\u001b[1;33m\u001b[0m\u001b[1;33m\u001b[0m\u001b[0m\n\u001b[1;32m--> 334\u001b[1;33m             \u001b[0mmultipleAlgorithmsNonParametric\u001b[0m\u001b[1;33m(\u001b[0m\u001b[0malgorithms\u001b[0m\u001b[1;33m,\u001b[0m \u001b[0maccuracies\u001b[0m\u001b[1;33m,\u001b[0m\u001b[0malpha\u001b[0m\u001b[1;33m)\u001b[0m\u001b[1;33m\u001b[0m\u001b[1;33m\u001b[0m\u001b[0m\n\u001b[0m\u001b[0;32m    335\u001b[0m \u001b[1;33m\u001b[0m\u001b[0m\n\u001b[0;32m    336\u001b[0m \u001b[1;32mdef\u001b[0m \u001b[0mcompare_method\u001b[0m\u001b[1;33m(\u001b[0m\u001b[0mtuple\u001b[0m\u001b[1;33m)\u001b[0m\u001b[1;33m:\u001b[0m\u001b[1;33m\u001b[0m\u001b[1;33m\u001b[0m\u001b[0m\n",
      "\u001b[1;32m~\\Anaconda3\\lib\\site-packages\\StatisticalAnalysis\\statisticalComparison.py\u001b[0m in \u001b[0;36mmultipleAlgorithmsNonParametric\u001b[1;34m(algorithms, accuracies, alpha)\u001b[0m\n\u001b[0;32m     60\u001b[0m         \u001b[0mprint\u001b[0m\u001b[1;33m(\u001b[0m\u001b[0mtabulate\u001b[0m\u001b[1;33m(\u001b[0m\u001b[0mres\u001b[0m\u001b[1;33m,\u001b[0m \u001b[0mheaders\u001b[0m\u001b[1;33m=\u001b[0m\u001b[1;33m[\u001b[0m\u001b[1;34m'Comparison'\u001b[0m\u001b[1;33m,\u001b[0m \u001b[1;34m'Zvalue'\u001b[0m\u001b[1;33m,\u001b[0m \u001b[1;34m'p-value'\u001b[0m\u001b[1;33m,\u001b[0m \u001b[1;34m'adjusted p-value'\u001b[0m\u001b[1;33m]\u001b[0m\u001b[1;33m)\u001b[0m\u001b[1;33m)\u001b[0m\u001b[1;33m\u001b[0m\u001b[1;33m\u001b[0m\u001b[0m\n\u001b[0;32m     61\u001b[0m         \u001b[1;32mfor\u001b[0m \u001b[1;33m(\u001b[0m\u001b[0mc\u001b[0m\u001b[1;33m,\u001b[0m \u001b[0mp\u001b[0m\u001b[1;33m)\u001b[0m \u001b[1;32min\u001b[0m \u001b[0mzip\u001b[0m\u001b[1;33m(\u001b[0m\u001b[0mcomparions\u001b[0m\u001b[1;33m,\u001b[0m \u001b[0madjustedpvalues\u001b[0m\u001b[1;33m)\u001b[0m\u001b[1;33m:\u001b[0m\u001b[1;33m\u001b[0m\u001b[1;33m\u001b[0m\u001b[0m\n\u001b[1;32m---> 62\u001b[1;33m             \u001b[0mcohend\u001b[0m \u001b[1;33m=\u001b[0m \u001b[0mabs\u001b[0m\u001b[1;33m(\u001b[0m\u001b[0mcohen_d\u001b[0m\u001b[1;33m(\u001b[0m\u001b[0malgorithmsDataset\u001b[0m\u001b[1;33m[\u001b[0m\u001b[0mwinner\u001b[0m\u001b[1;33m]\u001b[0m\u001b[1;33m,\u001b[0m \u001b[0malgorithmsDataset\u001b[0m\u001b[1;33m[\u001b[0m\u001b[0mc\u001b[0m\u001b[1;33m[\u001b[0m\u001b[0mc\u001b[0m\u001b[1;33m.\u001b[0m\u001b[0mrfind\u001b[0m\u001b[1;33m(\u001b[0m\u001b[1;34m\" \"\u001b[0m\u001b[1;33m)\u001b[0m \u001b[1;33m+\u001b[0m \u001b[1;36m1\u001b[0m\u001b[1;33m:\u001b[0m\u001b[1;33m]\u001b[0m\u001b[1;33m]\u001b[0m\u001b[1;33m)\u001b[0m\u001b[1;33m)\u001b[0m\u001b[1;33m\u001b[0m\u001b[1;33m\u001b[0m\u001b[0m\n\u001b[0m\u001b[0;32m     63\u001b[0m             \u001b[1;32mif\u001b[0m \u001b[1;33m(\u001b[0m\u001b[0mcohend\u001b[0m \u001b[1;33m<=\u001b[0m \u001b[1;36m0.2\u001b[0m\u001b[1;33m)\u001b[0m\u001b[1;33m:\u001b[0m\u001b[1;33m\u001b[0m\u001b[1;33m\u001b[0m\u001b[0m\n\u001b[0;32m     64\u001b[0m                 \u001b[0meffectsize\u001b[0m \u001b[1;33m=\u001b[0m \u001b[1;34m\"Small\"\u001b[0m\u001b[1;33m\u001b[0m\u001b[1;33m\u001b[0m\u001b[0m\n",
      "\u001b[1;31mKeyError\u001b[0m: 'regression'"
     ]
    },
    {
     "data": {
      "image/png": "[encoded data removed]",
      "text/plain": [
       "<Figure size 432x288 with 1 Axes>"
      ]
     },
     "metadata": {
      "needs_background": "light"
     },
     "output_type": "display_data"
    }
   ],
   "source": [
    "from StatisticalAnalysis import statisticalComparison\n",
    "statisticalComparison('r2_scores.csv')"
   ]
  },
  {
   "cell_type": "markdown",
   "metadata": {},
   "source": [
    "### From dataset train2 "
   ]
  },
  {
   "cell_type": "code",
   "execution_count": 26,
   "metadata": {},
   "outputs": [],
   "source": [
    "r2_scores_2 = pd.DataFrame()\n",
    "nmse_scores_2= pd.DataFrame()"
   ]
  },
  {
   "cell_type": "code",
   "execution_count": 27,
   "metadata": {},
   "outputs": [
    {
     "name": "stdout",
     "output_type": "stream",
     "text": [
      "K-nn. r2: 0.759 (0.171)\n",
      "K-nn. neg_mean_squared_error: -0.002 (0.001)\n",
      "Linear regression. r2: 0.315 (0.044)\n",
      "Linear regression. neg_mean_squared_error: -0.011 (0.001)\n",
      "Ridge. r2: 0.315 (0.044)\n",
      "Ridge. neg_mean_squared_error: -0.011 (0.001)\n",
      "Lasso. r2: 0.155 (0.017)\n",
      "Lasso. neg_mean_squared_error: -0.016 (0.001)\n",
      "ElasticNet. r2: 0.176 (0.017)\n",
      "ElasticNet. neg_mean_squared_error: -0.016 (0.001)\n",
      "RandomForestRegressor. r2: 0.941 (0.059)\n",
      "RandomForestRegressor. neg_mean_squared_error: -0.000 (0.000)\n",
      "ExtraTreesRegressor. r2: 0.964 (0.024)\n",
      "ExtraTreesRegressor. neg_mean_squared_error: -0.000 (0.000)\n",
      "Decision Tree Regressor. r2: 0.526 (0.085)\n",
      "Decision Tree Regressor. neg_mean_squared_error: -0.004 (0.000)\n",
      "MultiO/P GBR. r2: 0.507 (0.017)\n",
      "MultiO/P GBR. neg_mean_squared_error: -0.010 (0.000)\n",
      "MultiO/P AdaB. r2: 0.803 (0.056)\n",
      "MultiO/P AdaB. neg_mean_squared_error: -0.002 (0.000)\n"
     ]
    }
   ],
   "source": [
    "cv = KFold(n_splits=10, random_state=1)\n",
    "for name, estimator in ESTIMATORS.items():  \n",
    "    scores = cross_validate(estimator, Xtrain2, ytrain2, scoring=('r2', 'neg_mean_squared_error'), cv=cv, n_jobs=-1)\n",
    "    print('%s. r2: %.3f (%.3f)' % (name, mean(scores['test_r2']), std(scores['test_r2'])))\n",
    "    r2_scores_2[name]=scores['test_r2'].tolist()\n",
    "    print('%s. neg_mean_squared_error: %.3f (%.3f)' % (name, mean(scores['test_neg_mean_squared_error']), std(scores['test_neg_mean_squared_error'])))\n",
    "    nmse_scores_2[name]=scores['test_neg_mean_squared_error']"
   ]
  },
  {
   "cell_type": "code",
   "execution_count": 28,
   "metadata": {},
   "outputs": [
    {
     "data": {
      "text/html": [
       "<div>\n",
       "<style scoped>\n",
       "    .dataframe tbody tr th:only-of-type {\n",
       "        vertical-align: middle;\n",
       "    }\n",
       "\n",
       "    .dataframe tbody tr th {\n",
       "        vertical-align: top;\n",
       "    }\n",
       "\n",
       "    .dataframe thead th {\n",
       "        text-align: right;\n",
       "    }\n",
       "</style>\n",
       "<table border=\"1\" class=\"dataframe\">\n",
       "  <thead>\n",
       "    <tr style=\"text-align: right;\">\n",
       "      <th></th>\n",
       "      <th>0</th>\n",
       "      <th>1</th>\n",
       "      <th>2</th>\n",
       "      <th>3</th>\n",
       "      <th>4</th>\n",
       "      <th>5</th>\n",
       "      <th>6</th>\n",
       "      <th>7</th>\n",
       "      <th>8</th>\n",
       "      <th>9</th>\n",
       "    </tr>\n",
       "  </thead>\n",
       "  <tbody>\n",
       "    <tr>\n",
       "      <th>K-nn</th>\n",
       "      <td>0.841839</td>\n",
       "      <td>0.809573</td>\n",
       "      <td>0.844642</td>\n",
       "      <td>0.734270</td>\n",
       "      <td>0.847348</td>\n",
       "      <td>0.849087</td>\n",
       "      <td>0.766684</td>\n",
       "      <td>0.822140</td>\n",
       "      <td>0.816320</td>\n",
       "      <td>0.257447</td>\n",
       "    </tr>\n",
       "    <tr>\n",
       "      <th>Linear regression</th>\n",
       "      <td>0.317710</td>\n",
       "      <td>0.342489</td>\n",
       "      <td>0.354536</td>\n",
       "      <td>0.241484</td>\n",
       "      <td>0.349873</td>\n",
       "      <td>0.329384</td>\n",
       "      <td>0.265242</td>\n",
       "      <td>0.356475</td>\n",
       "      <td>0.348508</td>\n",
       "      <td>0.243129</td>\n",
       "    </tr>\n",
       "    <tr>\n",
       "      <th>Ridge</th>\n",
       "      <td>0.317713</td>\n",
       "      <td>0.342491</td>\n",
       "      <td>0.354539</td>\n",
       "      <td>0.241488</td>\n",
       "      <td>0.349875</td>\n",
       "      <td>0.329384</td>\n",
       "      <td>0.265246</td>\n",
       "      <td>0.356475</td>\n",
       "      <td>0.348511</td>\n",
       "      <td>0.243138</td>\n",
       "    </tr>\n",
       "    <tr>\n",
       "      <th>Lasso</th>\n",
       "      <td>0.149300</td>\n",
       "      <td>0.159839</td>\n",
       "      <td>0.172305</td>\n",
       "      <td>0.156170</td>\n",
       "      <td>0.167856</td>\n",
       "      <td>0.154632</td>\n",
       "      <td>0.108064</td>\n",
       "      <td>0.166367</td>\n",
       "      <td>0.165570</td>\n",
       "      <td>0.151481</td>\n",
       "    </tr>\n",
       "    <tr>\n",
       "      <th>ElasticNet</th>\n",
       "      <td>0.167270</td>\n",
       "      <td>0.182278</td>\n",
       "      <td>0.190052</td>\n",
       "      <td>0.175449</td>\n",
       "      <td>0.188555</td>\n",
       "      <td>0.175728</td>\n",
       "      <td>0.127762</td>\n",
       "      <td>0.188635</td>\n",
       "      <td>0.186147</td>\n",
       "      <td>0.174313</td>\n",
       "    </tr>\n",
       "    <tr>\n",
       "      <th>RandomForestRegressor</th>\n",
       "      <td>0.965116</td>\n",
       "      <td>0.958740</td>\n",
       "      <td>0.962063</td>\n",
       "      <td>0.969638</td>\n",
       "      <td>0.944922</td>\n",
       "      <td>0.979887</td>\n",
       "      <td>0.964206</td>\n",
       "      <td>0.970244</td>\n",
       "      <td>0.922976</td>\n",
       "      <td>0.768513</td>\n",
       "    </tr>\n",
       "    <tr>\n",
       "      <th>ExtraTreesRegressor</th>\n",
       "      <td>0.974928</td>\n",
       "      <td>0.962250</td>\n",
       "      <td>0.965651</td>\n",
       "      <td>0.959520</td>\n",
       "      <td>0.967975</td>\n",
       "      <td>0.985172</td>\n",
       "      <td>0.974644</td>\n",
       "      <td>0.977139</td>\n",
       "      <td>0.974795</td>\n",
       "      <td>0.894711</td>\n",
       "    </tr>\n",
       "    <tr>\n",
       "      <th>Decision Tree Regressor</th>\n",
       "      <td>0.539140</td>\n",
       "      <td>0.588468</td>\n",
       "      <td>0.547251</td>\n",
       "      <td>0.448354</td>\n",
       "      <td>0.581733</td>\n",
       "      <td>0.532341</td>\n",
       "      <td>0.483080</td>\n",
       "      <td>0.602193</td>\n",
       "      <td>0.615373</td>\n",
       "      <td>0.317811</td>\n",
       "    </tr>\n",
       "    <tr>\n",
       "      <th>MultiO/P GBR</th>\n",
       "      <td>0.495491</td>\n",
       "      <td>0.508887</td>\n",
       "      <td>0.500974</td>\n",
       "      <td>0.507213</td>\n",
       "      <td>0.510329</td>\n",
       "      <td>0.500390</td>\n",
       "      <td>0.518724</td>\n",
       "      <td>0.493100</td>\n",
       "      <td>0.551704</td>\n",
       "      <td>0.485374</td>\n",
       "    </tr>\n",
       "    <tr>\n",
       "      <th>MultiO/P AdaB</th>\n",
       "      <td>0.839846</td>\n",
       "      <td>0.818532</td>\n",
       "      <td>0.821892</td>\n",
       "      <td>0.834983</td>\n",
       "      <td>0.858049</td>\n",
       "      <td>0.822510</td>\n",
       "      <td>0.807707</td>\n",
       "      <td>0.824538</td>\n",
       "      <td>0.749888</td>\n",
       "      <td>0.655449</td>\n",
       "    </tr>\n",
       "  </tbody>\n",
       "</table>\n",
       "</div>"
      ],
      "text/plain": [
       "                                0         1         2         3         4  \\\n",
       "K-nn                     0.841839  0.809573  0.844642  0.734270  0.847348   \n",
       "Linear regression        0.317710  0.342489  0.354536  0.241484  0.349873   \n",
       "Ridge                    0.317713  0.342491  0.354539  0.241488  0.349875   \n",
       "Lasso                    0.149300  0.159839  0.172305  0.156170  0.167856   \n",
       "ElasticNet               0.167270  0.182278  0.190052  0.175449  0.188555   \n",
       "RandomForestRegressor    0.965116  0.958740  0.962063  0.969638  0.944922   \n",
       "ExtraTreesRegressor      0.974928  0.962250  0.965651  0.959520  0.967975   \n",
       "Decision Tree Regressor  0.539140  0.588468  0.547251  0.448354  0.581733   \n",
       "MultiO/P GBR             0.495491  0.508887  0.500974  0.507213  0.510329   \n",
       "MultiO/P AdaB            0.839846  0.818532  0.821892  0.834983  0.858049   \n",
       "\n",
       "                                5         6         7         8         9  \n",
       "K-nn                     0.849087  0.766684  0.822140  0.816320  0.257447  \n",
       "Linear regression        0.329384  0.265242  0.356475  0.348508  0.243129  \n",
       "Ridge                    0.329384  0.265246  0.356475  0.348511  0.243138  \n",
       "Lasso                    0.154632  0.108064  0.166367  0.165570  0.151481  \n",
       "ElasticNet               0.175728  0.127762  0.188635  0.186147  0.174313  \n",
       "RandomForestRegressor    0.979887  0.964206  0.970244  0.922976  0.768513  \n",
       "ExtraTreesRegressor      0.985172  0.974644  0.977139  0.974795  0.894711  \n",
       "Decision Tree Regressor  0.532341  0.483080  0.602193  0.615373  0.317811  \n",
       "MultiO/P GBR             0.500390  0.518724  0.493100  0.551704  0.485374  \n",
       "MultiO/P AdaB            0.822510  0.807707  0.824538  0.749888  0.655449  "
      ]
     },
     "execution_count": 28,
     "metadata": {},
     "output_type": "execute_result"
    }
   ],
   "source": [
    "r2_scores_2=r2_scores_2.transpose()\n",
    "r2_scores_2"
   ]
  },
  {
   "cell_type": "code",
   "execution_count": 29,
   "metadata": {},
   "outputs": [],
   "source": [
    "r2_scores_2.to_csv(r'C:\\Users\\gamata\\Documents\\004_Proyectos\\011_Mares_Edu_y_Jonathan\\r2_scores_2.csv')"
   ]
  },
  {
   "cell_type": "code",
   "execution_count": 30,
   "metadata": {},
   "outputs": [
    {
     "name": "stdout",
     "output_type": "stream",
     "text": [
      "r2_scores_2.csv\n",
      "['K-nn' 'Linear regression' 'Ridge' 'Lasso' 'ElasticNet'\n",
      " 'RandomForestRegressor' 'ExtraTreesRegressor' 'Decision Tree Regressor'\n",
      " 'MultiO/P GBR' 'MultiO/P AdaB']\n",
      "==========================================================\n",
      "Report\n",
      "==========================================================\n",
      "**********************************************************\n",
      "Mean and std\n",
      "**********************************************************\n",
      "K-nn: 0.758935 (0.170931)\n",
      "Linear regression: 0.314883 (0.044315)\n",
      "Ridge: 0.314886 (0.044313)\n",
      "Lasso: 0.155158 (0.017258)\n",
      "ElasticNet: 0.175619 (0.017498)\n",
      "RandomForestRegressor: 0.940631 (0.059293)\n",
      "ExtraTreesRegressor: 0.963679 (0.024107)\n",
      "Decision Tree Regressor: 0.525574 (0.085251)\n",
      "MultiO/P GBR: 0.507219 (0.017388)\n",
      "MultiO/P AdaB: 0.803339 (0.056095)\n",
      "**********************************************************\n",
      "Statistical tests\n",
      "**********************************************************\n",
      "----------------------------------------------------------\n",
      "Checking parametric conditions \n",
      "----------------------------------------------------------\n",
      "Checking independence \n",
      "Ok\n",
      "Checking normality using Shapiro-Wilk's test for normality, alpha=0.05\n",
      "W: 0.892539, p:0.000001\n",
      "The null hypothesis (normality) is rejected\n",
      "Checking heteroscedasticity using Levene's test, alpha=0.05\n",
      "W: 1.284775, p:0.256166\n",
      "The null hypothesis (heteroscedasticity) is accepted\n",
      "Conditions for a parametric test are not fulfilled, applying a non-parametric test\n",
      "----------------------------------------------------------\n",
      "Working with more than 2 algorithms\n",
      "----------------------------------------------------------\n",
      "----------------------------------------------------------\n",
      "Applying Friedman test\n",
      "----------------------------------------------------------\n",
      "F-value: 369.826531, p-value: 1.1102230246251565e-16\n",
      "Null hypothesis is rejected; hence, models have different performance\n",
      "Technique                  Ranking\n",
      "-----------------------  ---------\n",
      "ExtraTreesRegressor            9.9\n",
      "RandomForestRegressor          9.1\n",
      "MultiO/P AdaB                  7.6\n",
      "K-nn                           7.2\n",
      "Decision Tree Regressor        5.8\n",
      "MultiO/P GBR                   5.4\n",
      "Ridge                          3.9\n",
      "Linear regression              3.1\n",
      "ElasticNet                     2\n",
      "Lasso                          1\n",
      "Winner model: ExtraTreesRegressor\n",
      "----------------------------------------------------------\n",
      "Applying Holm p-value adjustment procedure and analysing effect size\n",
      "----------------------------------------------------------\n",
      "Comparison                                        Zvalue      p-value    adjusted p-value\n",
      "----------------------------------------------  --------  -----------  ------------------\n",
      "ExtraTreesRegressor vs Lasso                    6.57309   4.9283e-11          4.43547e-10\n",
      "ExtraTreesRegressor vs ElasticNet               5.83454   5.39402e-09         4.31522e-08\n",
      "ExtraTreesRegressor vs Linear regression        5.02213   5.11008e-07         3.57706e-06\n",
      "ExtraTreesRegressor vs Ridge                    4.43129   9.36694e-06         5.62016e-05\n",
      "ExtraTreesRegressor vs MultiO/P GBR             3.32347   0.000889049         0.00444525\n",
      "ExtraTreesRegressor vs Decision Tree Regressor  3.02805   0.00246137          0.00984547\n",
      "ExtraTreesRegressor vs K-nn                     1.99408   0.0461431           0.138429\n",
      "ExtraTreesRegressor vs MultiO/P AdaB            1.69866   0.0893828           0.178766\n",
      "ExtraTreesRegressor vs RandomForestRegressor    0.590839  0.554628            0.554628\n",
      "There is a significant difference between the models: ExtraTreesRegressor (mean: 0.963679, std: 0.024107) and Lasso (mean: 0.155158, std: 0.017258) (Cohen's d=36.5876212872526, Large)\n",
      "There is a significant difference between the models: ExtraTreesRegressor (mean: 0.963679, std: 0.024107) and ElasticNet (mean: 0.175619, std: 0.017498) (Cohen's d=35.493082347808816, Large)\n"
     ]
    },
    {
     "ename": "KeyError",
     "evalue": "'regression'",
     "output_type": "error",
     "traceback": [
      "\u001b[1;31m---------------------------------------------------------------------------\u001b[0m",
      "\u001b[1;31mKeyError\u001b[0m                                  Traceback (most recent call last)",
      "\u001b[1;32m<ipython-input-30-48fd98d15237>\u001b[0m in \u001b[0;36m<module>\u001b[1;34m\u001b[0m\n\u001b[0;32m      1\u001b[0m \u001b[1;32mfrom\u001b[0m \u001b[0mStatisticalAnalysis\u001b[0m \u001b[1;32mimport\u001b[0m \u001b[0mstatisticalComparison\u001b[0m\u001b[1;33m\u001b[0m\u001b[1;33m\u001b[0m\u001b[0m\n\u001b[1;32m----> 2\u001b[1;33m \u001b[0mstatisticalComparison\u001b[0m\u001b[1;33m(\u001b[0m\u001b[1;34m'r2_scores_2.csv'\u001b[0m\u001b[1;33m)\u001b[0m\u001b[1;33m\u001b[0m\u001b[1;33m\u001b[0m\u001b[0m\n\u001b[0m",
      "\u001b[1;32m~\\Anaconda3\\lib\\site-packages\\StatisticalAnalysis\\statisticalComparison.py\u001b[0m in \u001b[0;36mstatisticalComparison\u001b[1;34m(dataset, alpha)\u001b[0m\n\u001b[0;32m    332\u001b[0m             \u001b[0mprint\u001b[0m\u001b[1;33m(\u001b[0m\u001b[1;34m\"Working with more than 2 algorithms\"\u001b[0m\u001b[1;33m)\u001b[0m\u001b[1;33m\u001b[0m\u001b[1;33m\u001b[0m\u001b[0m\n\u001b[0;32m    333\u001b[0m             \u001b[0mprint\u001b[0m\u001b[1;33m(\u001b[0m\u001b[1;34m\"----------------------------------------------------------\"\u001b[0m\u001b[1;33m)\u001b[0m\u001b[1;33m\u001b[0m\u001b[1;33m\u001b[0m\u001b[0m\n\u001b[1;32m--> 334\u001b[1;33m             \u001b[0mmultipleAlgorithmsNonParametric\u001b[0m\u001b[1;33m(\u001b[0m\u001b[0malgorithms\u001b[0m\u001b[1;33m,\u001b[0m \u001b[0maccuracies\u001b[0m\u001b[1;33m,\u001b[0m\u001b[0malpha\u001b[0m\u001b[1;33m)\u001b[0m\u001b[1;33m\u001b[0m\u001b[1;33m\u001b[0m\u001b[0m\n\u001b[0m\u001b[0;32m    335\u001b[0m \u001b[1;33m\u001b[0m\u001b[0m\n\u001b[0;32m    336\u001b[0m \u001b[1;32mdef\u001b[0m \u001b[0mcompare_method\u001b[0m\u001b[1;33m(\u001b[0m\u001b[0mtuple\u001b[0m\u001b[1;33m)\u001b[0m\u001b[1;33m:\u001b[0m\u001b[1;33m\u001b[0m\u001b[1;33m\u001b[0m\u001b[0m\n",
      "\u001b[1;32m~\\Anaconda3\\lib\\site-packages\\StatisticalAnalysis\\statisticalComparison.py\u001b[0m in \u001b[0;36mmultipleAlgorithmsNonParametric\u001b[1;34m(algorithms, accuracies, alpha)\u001b[0m\n\u001b[0;32m     60\u001b[0m         \u001b[0mprint\u001b[0m\u001b[1;33m(\u001b[0m\u001b[0mtabulate\u001b[0m\u001b[1;33m(\u001b[0m\u001b[0mres\u001b[0m\u001b[1;33m,\u001b[0m \u001b[0mheaders\u001b[0m\u001b[1;33m=\u001b[0m\u001b[1;33m[\u001b[0m\u001b[1;34m'Comparison'\u001b[0m\u001b[1;33m,\u001b[0m \u001b[1;34m'Zvalue'\u001b[0m\u001b[1;33m,\u001b[0m \u001b[1;34m'p-value'\u001b[0m\u001b[1;33m,\u001b[0m \u001b[1;34m'adjusted p-value'\u001b[0m\u001b[1;33m]\u001b[0m\u001b[1;33m)\u001b[0m\u001b[1;33m)\u001b[0m\u001b[1;33m\u001b[0m\u001b[1;33m\u001b[0m\u001b[0m\n\u001b[0;32m     61\u001b[0m         \u001b[1;32mfor\u001b[0m \u001b[1;33m(\u001b[0m\u001b[0mc\u001b[0m\u001b[1;33m,\u001b[0m \u001b[0mp\u001b[0m\u001b[1;33m)\u001b[0m \u001b[1;32min\u001b[0m \u001b[0mzip\u001b[0m\u001b[1;33m(\u001b[0m\u001b[0mcomparions\u001b[0m\u001b[1;33m,\u001b[0m \u001b[0madjustedpvalues\u001b[0m\u001b[1;33m)\u001b[0m\u001b[1;33m:\u001b[0m\u001b[1;33m\u001b[0m\u001b[1;33m\u001b[0m\u001b[0m\n\u001b[1;32m---> 62\u001b[1;33m             \u001b[0mcohend\u001b[0m \u001b[1;33m=\u001b[0m \u001b[0mabs\u001b[0m\u001b[1;33m(\u001b[0m\u001b[0mcohen_d\u001b[0m\u001b[1;33m(\u001b[0m\u001b[0malgorithmsDataset\u001b[0m\u001b[1;33m[\u001b[0m\u001b[0mwinner\u001b[0m\u001b[1;33m]\u001b[0m\u001b[1;33m,\u001b[0m \u001b[0malgorithmsDataset\u001b[0m\u001b[1;33m[\u001b[0m\u001b[0mc\u001b[0m\u001b[1;33m[\u001b[0m\u001b[0mc\u001b[0m\u001b[1;33m.\u001b[0m\u001b[0mrfind\u001b[0m\u001b[1;33m(\u001b[0m\u001b[1;34m\" \"\u001b[0m\u001b[1;33m)\u001b[0m \u001b[1;33m+\u001b[0m \u001b[1;36m1\u001b[0m\u001b[1;33m:\u001b[0m\u001b[1;33m]\u001b[0m\u001b[1;33m]\u001b[0m\u001b[1;33m)\u001b[0m\u001b[1;33m)\u001b[0m\u001b[1;33m\u001b[0m\u001b[1;33m\u001b[0m\u001b[0m\n\u001b[0m\u001b[0;32m     63\u001b[0m             \u001b[1;32mif\u001b[0m \u001b[1;33m(\u001b[0m\u001b[0mcohend\u001b[0m \u001b[1;33m<=\u001b[0m \u001b[1;36m0.2\u001b[0m\u001b[1;33m)\u001b[0m\u001b[1;33m:\u001b[0m\u001b[1;33m\u001b[0m\u001b[1;33m\u001b[0m\u001b[0m\n\u001b[0;32m     64\u001b[0m                 \u001b[0meffectsize\u001b[0m \u001b[1;33m=\u001b[0m \u001b[1;34m\"Small\"\u001b[0m\u001b[1;33m\u001b[0m\u001b[1;33m\u001b[0m\u001b[0m\n",
      "\u001b[1;31mKeyError\u001b[0m: 'regression'"
     ]
    },
    {
     "data": {
      "image/png": "[encoded data removed]",
      "text/plain": [
       "<Figure size 432x288 with 1 Axes>"
      ]
     },
     "metadata": {
      "needs_background": "light"
     },
     "output_type": "display_data"
    }
   ],
   "source": [
    "from StatisticalAnalysis import statisticalComparison\n",
    "statisticalComparison('r2_scores_2.csv')"
   ]
  },
  {
   "cell_type": "markdown",
   "metadata": {},
   "source": [
    "### Training with the best model for the different training datasets"
   ]
  },
  {
   "cell_type": "markdown",
   "metadata": {},
   "source": [
    "Building model with train1:"
   ]
  },
  {
   "cell_type": "code",
   "execution_count": 31,
   "metadata": {},
   "outputs": [
    {
     "data": {
      "text/plain": [
       "ExtraTreesRegressor(max_depth=30, random_state=2)"
      ]
     },
     "execution_count": 31,
     "metadata": {},
     "output_type": "execute_result"
    }
   ],
   "source": [
    "regr_et = ExtraTreesRegressor(n_estimators=100, max_depth=30,\n",
    "                                random_state=2)\n",
    "regr_et.fit(Xtrain1, ytrain1)"
   ]
  },
  {
   "cell_type": "markdown",
   "metadata": {},
   "source": [
    "Evaluating the model:"
   ]
  },
  {
   "cell_type": "code",
   "execution_count": 32,
   "metadata": {},
   "outputs": [
    {
     "data": {
      "text/plain": [
       "0.9618962256776254"
      ]
     },
     "execution_count": 32,
     "metadata": {},
     "output_type": "execute_result"
    }
   ],
   "source": [
    "regr_et.score(Xtest1,ytest1)"
   ]
  },
  {
   "cell_type": "code",
   "execution_count": 33,
   "metadata": {},
   "outputs": [
    {
     "data": {
      "text/plain": [
       "0.9587858639066389"
      ]
     },
     "execution_count": 33,
     "metadata": {},
     "output_type": "execute_result"
    }
   ],
   "source": [
    "regr_et.score(Xtest2,ytest2)"
   ]
  },
  {
   "cell_type": "markdown",
   "metadata": {},
   "source": [
    "Buiding model with train2:"
   ]
  },
  {
   "cell_type": "code",
   "execution_count": 34,
   "metadata": {},
   "outputs": [
    {
     "data": {
      "text/plain": [
       "ExtraTreesRegressor(max_depth=30, random_state=2)"
      ]
     },
     "execution_count": 34,
     "metadata": {},
     "output_type": "execute_result"
    }
   ],
   "source": [
    "regr_et_2 = ExtraTreesRegressor(n_estimators=100, max_depth=30,\n",
    "                                random_state=2)\n",
    "regr_et_2.fit(Xtrain2, ytrain2)"
   ]
  },
  {
   "cell_type": "code",
   "execution_count": 35,
   "metadata": {},
   "outputs": [
    {
     "data": {
      "text/plain": [
       "0.960305134367017"
      ]
     },
     "execution_count": 35,
     "metadata": {},
     "output_type": "execute_result"
    }
   ],
   "source": [
    "regr_et_2.score(Xtest1,ytest1)"
   ]
  },
  {
   "cell_type": "code",
   "execution_count": 36,
   "metadata": {},
   "outputs": [
    {
     "data": {
      "text/plain": [
       "0.9582362400087965"
      ]
     },
     "execution_count": 36,
     "metadata": {},
     "output_type": "execute_result"
    }
   ],
   "source": [
    "regr_et_2.score(Xtest2,ytest2)"
   ]
  }
 ],
 "metadata": {
  "kernelspec": {
   "display_name": "Python 3",
   "language": "python",
   "name": "python3"
  },
  "language_info": {
   "codemirror_mode": {
    "name": "ipython",
    "version": 3
   },
   "file_extension": ".py",
   "mimetype": "text/x-python",
   "name": "python",
   "nbconvert_exporter": "python",
   "pygments_lexer": "ipython3",
   "version": "3.8.5"
  }
 },
 "nbformat": 4,
 "nbformat_minor": 4
}
